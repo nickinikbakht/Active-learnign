{
 "cells": [
  {
   "cell_type": "code",
   "execution_count": null,
   "id": "f3f3288b",
   "metadata": {},
   "outputs": [],
   "source": [
    "import numpy as np\n",
    "from sklearn.datasets import make_classification\n",
    "from sklearn.linear_model import LogisticRegression\n",
    "from sklearn.metrics import accuracy_score\n",
    "\n",
    "# Step 1: Create data\n",
    "X, y = make_classification(n_samples=1000, n_features=10, n_informative=5, random_state=42)\n",
    "\n",
    "# Split into labeled and unlabeled pools\n",
    "n_initial = 20\n",
    "X_labeled, y_labeled = X[:n_initial], y[:n_initial]\n",
    "X_unlabeled, y_unlabeled = X[n_initial:], y[n_initial:]\n",
    "\n",
    "# Step 2: Active Learning Loop\n",
    "model = LogisticRegression()\n",
    "\n",
    "for i in range(5):  # run 5 active learning rounds\n",
    "    model.fit(X_labeled, y_labeled)\n",
    "    y_pred = model.predict(X_unlabeled)\n",
    "    probs = model.predict_proba(X_unlabeled)\n",
    "    \n",
    "    # Step 3: Find most uncertain samples (closest to 0.5 probability)\n",
    "    uncertainty = np.abs(probs[:, 1] - 0.5)\n",
    "    query_idx = np.argsort(uncertainty)[:10]  # select 10 most uncertain\n",
    "    \n",
    "    # Step 4: \"Label\" them (simulate by using true labels)\n",
    "    X_new, y_new = X_unlabeled[query_idx], y_unlabeled[query_idx]\n",
    "    \n",
    "    # Add them to labeled set\n",
    "    X_labeled = np.concatenate([X_labeled, X_new])\n",
    "    y_labeled = np.concatenate([y_labeled, y_new])\n",
    "    \n",
    "    # Remove from unlabeled pool\n",
    "    mask = np.ones(len(X_unlabeled), dtype=bool)\n",
    "    mask[query_idx] = False\n",
    "    X_unlabeled, y_unlabeled = X_unlabeled[mask], y_unlabeled[mask]\n",
    "    \n",
    "    # Evaluate model\n",
    "    acc = accuracy_score(y[:200], model.predict(X[:200]))\n",
    "    print(f\"Round {i+1}: Labeled {len(X_labeled)} samples, Accuracy = {acc:.3f}\")\n",
    "\n",
    "print(\"✅ Active learning completed.\")\n"
   ]
  },
  {
   "cell_type": "code",
   "execution_count": null,
   "id": "6b80021e",
   "metadata": {},
   "outputs": [],
   "source": []
  }
 ],
 "metadata": {
  "language_info": {
   "name": "python"
  }
 },
 "nbformat": 4,
 "nbformat_minor": 5
}
